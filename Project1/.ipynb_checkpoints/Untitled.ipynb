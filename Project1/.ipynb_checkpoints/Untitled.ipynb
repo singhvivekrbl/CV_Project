{
 "cells": [
  {
   "cell_type": "code",
   "execution_count": 8,
   "id": "c36cac55",
   "metadata": {},
   "outputs": [],
   "source": [
    "import numpy as np # linear algebra\n",
    "import pandas as pd # data processing, CSV file I/O (e.g. pd.read_csv)\n",
    "import sqlite3\n",
    "import matplotlib.pyplot as plt\n",
    "\n",
    "# Input data files are available in the \"../input/\" directory.\n",
    "# For example, running this (by clicking run or pressing Shift+Enter) will list the files in the input directory\n",
    "\n"
   ]
  },
  {
   "cell_type": "code",
   "execution_count": 11,
   "id": "89931b26",
   "metadata": {},
   "outputs": [],
   "source": [
    "path = \"C:\\\\Users\\\\singh\\\\Desktop\\\\\"  #Insert path here\n",
    "database = path + 'database.sqlite'"
   ]
  },
  {
   "cell_type": "code",
   "execution_count": 12,
   "id": "7e643834",
   "metadata": {},
   "outputs": [
    {
     "data": {
      "text/html": [
       "<div>\n",
       "<style scoped>\n",
       "    .dataframe tbody tr th:only-of-type {\n",
       "        vertical-align: middle;\n",
       "    }\n",
       "\n",
       "    .dataframe tbody tr th {\n",
       "        vertical-align: top;\n",
       "    }\n",
       "\n",
       "    .dataframe thead th {\n",
       "        text-align: right;\n",
       "    }\n",
       "</style>\n",
       "<table border=\"1\" class=\"dataframe\">\n",
       "  <thead>\n",
       "    <tr style=\"text-align: right;\">\n",
       "      <th></th>\n",
       "      <th>type</th>\n",
       "      <th>name</th>\n",
       "      <th>tbl_name</th>\n",
       "      <th>rootpage</th>\n",
       "      <th>sql</th>\n",
       "    </tr>\n",
       "  </thead>\n",
       "  <tbody>\n",
       "    <tr>\n",
       "      <th>0</th>\n",
       "      <td>table</td>\n",
       "      <td>sqlite_sequence</td>\n",
       "      <td>sqlite_sequence</td>\n",
       "      <td>4</td>\n",
       "      <td>CREATE TABLE sqlite_sequence(name,seq)</td>\n",
       "    </tr>\n",
       "    <tr>\n",
       "      <th>1</th>\n",
       "      <td>table</td>\n",
       "      <td>Player_Attributes</td>\n",
       "      <td>Player_Attributes</td>\n",
       "      <td>11</td>\n",
       "      <td>CREATE TABLE \"Player_Attributes\" (\\n\\t`id`\\tIN...</td>\n",
       "    </tr>\n",
       "    <tr>\n",
       "      <th>2</th>\n",
       "      <td>table</td>\n",
       "      <td>Player</td>\n",
       "      <td>Player</td>\n",
       "      <td>14</td>\n",
       "      <td>CREATE TABLE `Player` (\\n\\t`id`\\tINTEGER PRIMA...</td>\n",
       "    </tr>\n",
       "    <tr>\n",
       "      <th>3</th>\n",
       "      <td>table</td>\n",
       "      <td>Match</td>\n",
       "      <td>Match</td>\n",
       "      <td>18</td>\n",
       "      <td>CREATE TABLE `Match` (\\n\\t`id`\\tINTEGER PRIMAR...</td>\n",
       "    </tr>\n",
       "    <tr>\n",
       "      <th>4</th>\n",
       "      <td>table</td>\n",
       "      <td>League</td>\n",
       "      <td>League</td>\n",
       "      <td>24</td>\n",
       "      <td>CREATE TABLE `League` (\\n\\t`id`\\tINTEGER PRIMA...</td>\n",
       "    </tr>\n",
       "    <tr>\n",
       "      <th>5</th>\n",
       "      <td>table</td>\n",
       "      <td>Country</td>\n",
       "      <td>Country</td>\n",
       "      <td>26</td>\n",
       "      <td>CREATE TABLE `Country` (\\n\\t`id`\\tINTEGER PRIM...</td>\n",
       "    </tr>\n",
       "    <tr>\n",
       "      <th>6</th>\n",
       "      <td>table</td>\n",
       "      <td>Team</td>\n",
       "      <td>Team</td>\n",
       "      <td>29</td>\n",
       "      <td>CREATE TABLE \"Team\" (\\n\\t`id`\\tINTEGER PRIMARY...</td>\n",
       "    </tr>\n",
       "    <tr>\n",
       "      <th>7</th>\n",
       "      <td>table</td>\n",
       "      <td>Team_Attributes</td>\n",
       "      <td>Team_Attributes</td>\n",
       "      <td>2</td>\n",
       "      <td>CREATE TABLE `Team_Attributes` (\\n\\t`id`\\tINTE...</td>\n",
       "    </tr>\n",
       "  </tbody>\n",
       "</table>\n",
       "</div>"
      ],
      "text/plain": [
       "    type               name           tbl_name  rootpage  \\\n",
       "0  table    sqlite_sequence    sqlite_sequence         4   \n",
       "1  table  Player_Attributes  Player_Attributes        11   \n",
       "2  table             Player             Player        14   \n",
       "3  table              Match              Match        18   \n",
       "4  table             League             League        24   \n",
       "5  table            Country            Country        26   \n",
       "6  table               Team               Team        29   \n",
       "7  table    Team_Attributes    Team_Attributes         2   \n",
       "\n",
       "                                                 sql  \n",
       "0             CREATE TABLE sqlite_sequence(name,seq)  \n",
       "1  CREATE TABLE \"Player_Attributes\" (\\n\\t`id`\\tIN...  \n",
       "2  CREATE TABLE `Player` (\\n\\t`id`\\tINTEGER PRIMA...  \n",
       "3  CREATE TABLE `Match` (\\n\\t`id`\\tINTEGER PRIMAR...  \n",
       "4  CREATE TABLE `League` (\\n\\t`id`\\tINTEGER PRIMA...  \n",
       "5  CREATE TABLE `Country` (\\n\\t`id`\\tINTEGER PRIM...  \n",
       "6  CREATE TABLE \"Team\" (\\n\\t`id`\\tINTEGER PRIMARY...  \n",
       "7  CREATE TABLE `Team_Attributes` (\\n\\t`id`\\tINTE...  "
      ]
     },
     "execution_count": 12,
     "metadata": {},
     "output_type": "execute_result"
    }
   ],
   "source": [
    "conn = sqlite3.connect(database)\n",
    "\n",
    "tables = pd.read_sql(\"\"\"SELECT * FROM sqlite_master WHERE type='table';\"\"\", conn)\n",
    "tables"
   ]
  },
  {
   "cell_type": "code",
   "execution_count": 30,
   "id": "a0a08517",
   "metadata": {},
   "outputs": [],
   "source": [
    "tables.to_csv(\"data.csv\")"
   ]
  },
  {
   "cell_type": "code",
   "execution_count": 21,
   "id": "1c57f23a",
   "metadata": {},
   "outputs": [
    {
     "data": {
      "text/plain": [
       "Index(['id', 'player_fifa_api_id', 'player_api_id', 'date', 'overall_rating',\n",
       "       'potential', 'preferred_foot', 'attacking_work_rate',\n",
       "       'defensive_work_rate', 'crossing', 'finishing', 'heading_accuracy',\n",
       "       'short_passing', 'volleys', 'dribbling', 'curve', 'free_kick_accuracy',\n",
       "       'long_passing', 'ball_control', 'acceleration', 'sprint_speed',\n",
       "       'agility', 'reactions', 'balance', 'shot_power', 'jumping', 'stamina',\n",
       "       'strength', 'long_shots', 'aggression', 'interceptions', 'positioning',\n",
       "       'vision', 'penalties', 'marking', 'standing_tackle', 'sliding_tackle',\n",
       "       'gk_diving', 'gk_handling', 'gk_kicking', 'gk_positioning',\n",
       "       'gk_reflexes'],\n",
       "      dtype='object')"
      ]
     },
     "execution_count": 21,
     "metadata": {},
     "output_type": "execute_result"
    }
   ],
   "source": [
    "Player_Attributes = pd.read_sql(\"\"\"SELECT *\n",
    "                        FROM Player_Attributes;\"\"\", conn)\n",
    "Player_Attributes.columns"
   ]
  },
  {
   "cell_type": "code",
   "execution_count": 22,
   "id": "bacb2cab",
   "metadata": {},
   "outputs": [
    {
     "data": {
      "text/plain": [
       "Index(['id', 'player_api_id', 'player_name', 'player_fifa_api_id', 'birthday',\n",
       "       'height', 'weight'],\n",
       "      dtype='object')"
      ]
     },
     "execution_count": 22,
     "metadata": {},
     "output_type": "execute_result"
    }
   ],
   "source": [
    "Players = pd.read_sql(\"\"\"SELECT *\n",
    "                        FROM Player;\"\"\", conn)\n",
    "Players.columns"
   ]
  },
  {
   "cell_type": "code",
   "execution_count": 23,
   "id": "e1ffc6e3",
   "metadata": {},
   "outputs": [
    {
     "data": {
      "text/plain": [
       "Index(['id', 'country_id', 'league_id', 'season', 'stage', 'date',\n",
       "       'match_api_id', 'home_team_api_id', 'away_team_api_id',\n",
       "       'home_team_goal',\n",
       "       ...\n",
       "       'SJA', 'VCH', 'VCD', 'VCA', 'GBH', 'GBD', 'GBA', 'BSH', 'BSD', 'BSA'],\n",
       "      dtype='object', length=115)"
      ]
     },
     "execution_count": 23,
     "metadata": {},
     "output_type": "execute_result"
    }
   ],
   "source": [
    "Matchs = pd.read_sql(\"\"\"SELECT *\n",
    "                        FROM Match;\"\"\", conn)\n",
    "Matchs.columns"
   ]
  },
  {
   "cell_type": "code",
   "execution_count": 24,
   "id": "083092c3",
   "metadata": {},
   "outputs": [
    {
     "data": {
      "text/plain": [
       "Index(['id', 'country_id', 'name', 'id', 'name'], dtype='object')"
      ]
     },
     "execution_count": 24,
     "metadata": {},
     "output_type": "execute_result"
    }
   ],
   "source": [
    "leagues = pd.read_sql(\"\"\"SELECT *\n",
    "                        FROM League\n",
    "                        JOIN Country ON Country.id = League.country_id;\"\"\", conn)\n",
    "leagues.columns"
   ]
  },
  {
   "cell_type": "code",
   "execution_count": 17,
   "id": "b0b0c330",
   "metadata": {},
   "outputs": [
    {
     "data": {
      "text/plain": [
       "Index(['id', 'name'], dtype='object')"
      ]
     },
     "execution_count": 17,
     "metadata": {},
     "output_type": "execute_result"
    }
   ],
   "source": [
    "countries = pd.read_sql(\"\"\"SELECT *\n",
    "                        FROM Country;\"\"\", conn)\n",
    "countries.columns"
   ]
  },
  {
   "cell_type": "code",
   "execution_count": 19,
   "id": "89f05a06",
   "metadata": {},
   "outputs": [
    {
     "data": {
      "text/plain": [
       "Index(['id', 'team_api_id', 'team_fifa_api_id', 'team_long_name',\n",
       "       'team_short_name'],\n",
       "      dtype='object')"
      ]
     },
     "execution_count": 19,
     "metadata": {},
     "output_type": "execute_result"
    }
   ],
   "source": [
    "teams = pd.read_sql(\"\"\"SELECT *\n",
    "                        FROM Team\n",
    "                        ORDER BY team_long_name\n",
    "                        LIMIT 10;\"\"\", conn)\n",
    "teams.columns"
   ]
  },
  {
   "cell_type": "code",
   "execution_count": 26,
   "id": "8c8557ea",
   "metadata": {},
   "outputs": [
    {
     "data": {
      "text/plain": [
       "Index(['id', 'team_fifa_api_id', 'team_api_id', 'date', 'buildUpPlaySpeed',\n",
       "       'buildUpPlaySpeedClass', 'buildUpPlayDribbling',\n",
       "       'buildUpPlayDribblingClass', 'buildUpPlayPassing',\n",
       "       'buildUpPlayPassingClass', 'buildUpPlayPositioningClass',\n",
       "       'chanceCreationPassing', 'chanceCreationPassingClass',\n",
       "       'chanceCreationCrossing', 'chanceCreationCrossingClass',\n",
       "       'chanceCreationShooting', 'chanceCreationShootingClass',\n",
       "       'chanceCreationPositioningClass', 'defencePressure',\n",
       "       'defencePressureClass', 'defenceAggression', 'defenceAggressionClass',\n",
       "       'defenceTeamWidth', 'defenceTeamWidthClass',\n",
       "       'defenceDefenderLineClass'],\n",
       "      dtype='object')"
      ]
     },
     "execution_count": 26,
     "metadata": {},
     "output_type": "execute_result"
    }
   ],
   "source": [
    "Team_Attributes = pd.read_sql(\"\"\"SELECT *\n",
    "                        FROM Team_Attributes;\"\"\", conn)\n",
    "Team_Attributes.columns"
   ]
  },
  {
   "cell_type": "code",
   "execution_count": 20,
   "id": "5c6073bf",
   "metadata": {},
   "outputs": [
    {
     "data": {
      "text/plain": [
       "Index(['id', 'country_name', 'league_name', 'season', 'stage', 'date',\n",
       "       'home_team', 'away_team', 'home_team_goal', 'away_team_goal'],\n",
       "      dtype='object')"
      ]
     },
     "execution_count": 20,
     "metadata": {},
     "output_type": "execute_result"
    }
   ],
   "source": [
    "detailed_matches = pd.read_sql(\"\"\"SELECT Match.id, \n",
    "                                        Country.name AS country_name, \n",
    "                                        League.name AS league_name, \n",
    "                                        season, \n",
    "                                        stage, \n",
    "                                        date,\n",
    "                                        HT.team_long_name AS  home_team,\n",
    "                                        AT.team_long_name AS away_team,\n",
    "                                        home_team_goal, \n",
    "                                        away_team_goal                                        \n",
    "                                FROM Match\n",
    "                                JOIN Country on Country.id = Match.country_id\n",
    "                                JOIN League on League.id = Match.league_id\n",
    "                                LEFT JOIN Team AS HT on HT.team_api_id = Match.home_team_api_id\n",
    "                                LEFT JOIN Team AS AT on AT.team_api_id = Match.away_team_api_id\n",
    "                                WHERE country_name = 'Spain'\n",
    "                                ORDER by date\n",
    "                                LIMIT 10;\"\"\", conn)\n",
    "detailed_matches.columns"
   ]
  },
  {
   "cell_type": "code",
   "execution_count": null,
   "id": "c6f3ad4a",
   "metadata": {},
   "outputs": [],
   "source": []
  }
 ],
 "metadata": {
  "kernelspec": {
   "display_name": "Python 3",
   "language": "python",
   "name": "python3"
  },
  "language_info": {
   "codemirror_mode": {
    "name": "ipython",
    "version": 3
   },
   "file_extension": ".py",
   "mimetype": "text/x-python",
   "name": "python",
   "nbconvert_exporter": "python",
   "pygments_lexer": "ipython3",
   "version": "3.8.8"
  }
 },
 "nbformat": 4,
 "nbformat_minor": 5
}
